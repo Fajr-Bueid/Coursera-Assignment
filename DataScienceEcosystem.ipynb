{
 "cells": [
  {
   "cell_type": "markdown",
   "id": "460f6e5a-86dc-49dd-8c3e-b89524e2525b",
   "metadata": {},
   "source": [
    "# Data Science Tools and Ecosystem\n"
   ]
  },
  {
   "cell_type": "markdown",
   "id": "f32e2591-6a93-4c67-8169-653ff183e83f",
   "metadata": {},
   "source": [
    "### In this notebook, Data Science Tools and Ecosystem are summarized."
   ]
  },
  {
   "cell_type": "markdown",
   "id": "165503ef-4d38-4c92-8505-9b27950a037b",
   "metadata": {},
   "source": [
    "#### **Objectives**:\n",
    "- List popular languages for data science\n",
    "- List commonly used libaries\n",
    "- List data science tools\n",
    "  "
   ]
  },
  {
   "cell_type": "markdown",
   "id": "660b28a8-c393-462f-8245-77ae39e3f04c",
   "metadata": {},
   "source": [
    "##### Some of the popular languages that Data Scientists use are:\n",
    "1. Pyhton\n",
    "2. R\n",
    "3. SQL\n",
    "4. Java "
   ]
  },
  {
   "cell_type": "markdown",
   "id": "f2604e9f-d080-4155-8f5e-c910323c5bc1",
   "metadata": {},
   "source": [
    "##### Some of the commonly used libraries used by Data Scientists include:\n",
    "1. Panda - for data manipulation and analysis.\n",
    "2. Numpy - for numerical computing with arrays. \n",
    "3. matplotlib - for creating static, interactive, and animated visualizations in Python.\n",
    "4. scikit-learn - for machine learning and data mining."
   ]
  },
  {
   "cell_type": "markdown",
   "id": "d2b4277f-2b26-4ee9-8577-755190931e9b",
   "metadata": {},
   "source": [
    "| Data Science Tool |\n",
    "|-------------------|\n",
    "| Jupter Notebook   |\n",
    "|RStudiom           |\n",
    "|Apache Zeppelin    |\n"
   ]
  },
  {
   "cell_type": "markdown",
   "id": "dd5bdd43-8516-4314-b711-4645b2dc0255",
   "metadata": {},
   "source": [
    "### Below are a few examples of evaluating arithmetic expressions in Python\n",
    "- ' 5 + 9 ' sum\n",
    "- '13 - 2 ' subtract\n",
    "- ' 4 * 4 ' Multipy \n"
   ]
  },
  {
   "cell_type": "code",
   "execution_count": 21,
   "id": "fb9c55ec-4cf0-4edf-a5a3-299d8187076b",
   "metadata": {},
   "outputs": [
    {
     "data": {
      "text/plain": [
       "17"
      ]
     },
     "execution_count": 21,
     "metadata": {},
     "output_type": "execute_result"
    }
   ],
   "source": [
    "# This a simple arithmetic expression to mutiply then add integers\n",
    "( 3*4)+5"
   ]
  },
  {
   "cell_type": "code",
   "execution_count": 23,
   "id": "1ef1d367-dcc5-4c74-a356-7d1158d47e06",
   "metadata": {},
   "outputs": [
    {
     "data": {
      "text/plain": [
       "3.3333333333333335"
      ]
     },
     "execution_count": 23,
     "metadata": {},
     "output_type": "execute_result"
    }
   ],
   "source": [
    "# This will convert 200 minutes to hours by diving by 60\n",
    "200/ 60"
   ]
  },
  {
   "cell_type": "markdown",
   "id": "5038a90d-da89-44b5-af11-a7798104be67",
   "metadata": {},
   "source": [
    "## Author \n",
    "Fajr Bueid \n"
   ]
  },
  {
   "cell_type": "code",
   "execution_count": null,
   "id": "d3877019-24b3-4675-974a-4be3f51398ee",
   "metadata": {},
   "outputs": [],
   "source": []
  }
 ],
 "metadata": {
  "kernelspec": {
   "display_name": "Python 3 (ipykernel)",
   "language": "python",
   "name": "python3"
  },
  "language_info": {
   "codemirror_mode": {
    "name": "ipython",
    "version": 3
   },
   "file_extension": ".py",
   "mimetype": "text/x-python",
   "name": "python",
   "nbconvert_exporter": "python",
   "pygments_lexer": "ipython3",
   "version": "3.12.4"
  }
 },
 "nbformat": 4,
 "nbformat_minor": 5
}
